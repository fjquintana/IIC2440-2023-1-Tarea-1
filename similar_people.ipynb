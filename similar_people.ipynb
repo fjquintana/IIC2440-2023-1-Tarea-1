{
 "cells": [
  {
   "attachments": {},
   "cell_type": "markdown",
   "id": "3bcea330",
   "metadata": {},
   "source": [
    "# Tarea 1\n",
    "## IIC2440 - Procesamiento de Datos Masivos\n",
    "\n",
    "Integrantes: \n",
    "- Rodrigo Nahum\n",
    "- Fernando Quintana\n",
    "\n",
    "Notebook 2: Obtención de personas que tweetean similar."
   ]
  },
  {
   "attachments": {},
   "cell_type": "markdown",
   "id": "79acd550",
   "metadata": {},
   "source": [
    "# Importar datos"
   ]
  },
  {
   "attachments": {},
   "cell_type": "markdown",
   "id": "0eb821a2",
   "metadata": {},
   "source": [
    "Primero, importamos algunas librerias a usar."
   ]
  },
  {
   "cell_type": "code",
   "execution_count": 42,
   "metadata": {},
   "outputs": [],
   "source": [
    "import pandas as pd\n",
    "import numpy as np\n",
    "import csv\n",
    "from tqdm import tqdm\n",
    "import pickle\n",
    "import random"
   ]
  },
  {
   "attachments": {},
   "cell_type": "markdown",
   "id": "c1be8169",
   "metadata": {},
   "source": [
    "Igual que antes, importamos una funcion para ver el tamaño total de un objeto de Python. Obtenida de https://code.activestate.com/recipes/577504/"
   ]
  },
  {
   "cell_type": "code",
   "execution_count": 2,
   "id": "17fac056",
   "metadata": {},
   "outputs": [],
   "source": [
    "from __future__ import print_function\n",
    "from sys import getsizeof, stderr\n",
    "from itertools import chain\n",
    "from collections import deque\n",
    "try:\n",
    "    from reprlib import repr\n",
    "except ImportError:\n",
    "    pass\n",
    "\n",
    "def total_size(o, handlers={}, verbose=False):\n",
    "    \"\"\" Returns the approximate memory footprint an object and all of its contents.\n",
    "\n",
    "    Automatically finds the contents of the following builtin containers and\n",
    "    their subclasses:  tuple, list, deque, dict, set and frozenset.\n",
    "    To search other containers, add handlers to iterate over their contents:\n",
    "\n",
    "        handlers = {SomeContainerClass: iter,\n",
    "                    OtherContainerClass: OtherContainerClass.get_elements}\n",
    "\n",
    "    \"\"\"\n",
    "    dict_handler = lambda d: chain.from_iterable(d.items())\n",
    "    all_handlers = {tuple: iter,\n",
    "                    list: iter,\n",
    "                    deque: iter,\n",
    "                    dict: dict_handler,\n",
    "                    set: iter,\n",
    "                    frozenset: iter,\n",
    "                   }\n",
    "    all_handlers.update(handlers)     # user handlers take precedence\n",
    "    seen = set()                      # track which object id's have already been seen\n",
    "    default_size = getsizeof(0)       # estimate sizeof object without __sizeof__\n",
    "\n",
    "    def sizeof(o):\n",
    "        if id(o) in seen:       # do not double count the same object\n",
    "            return 0\n",
    "        seen.add(id(o))\n",
    "        s = getsizeof(o, default_size)\n",
    "\n",
    "        if verbose:\n",
    "            print(s, type(o), repr(o), file=stderr)\n",
    "\n",
    "        for typ, handler in all_handlers.items():\n",
    "            if isinstance(o, typ):\n",
    "                s += sum(map(sizeof, handler(o)))\n",
    "                break\n",
    "        return s\n",
    "\n",
    "    return sizeof(o)"
   ]
  },
  {
   "attachments": {},
   "cell_type": "markdown",
   "id": "03a8923f",
   "metadata": {},
   "source": [
    "# Cargar datos"
   ]
  },
  {
   "attachments": {},
   "cell_type": "markdown",
   "id": "d24231e6",
   "metadata": {},
   "source": [
    "Primero, cargamos el csv, las hash signatures y los tweets unicos encontrados."
   ]
  },
  {
   "cell_type": "code",
   "execution_count": 272,
   "id": "f25b54d9",
   "metadata": {},
   "outputs": [],
   "source": [
    "## Best parameters\n",
    "# k = 5\n",
    "# hash_funcs = 200\n",
    "# b = 20\n",
    "# r = 10"
   ]
  },
  {
   "cell_type": "code",
   "execution_count": 3,
   "id": "e52a9b86",
   "metadata": {},
   "outputs": [],
   "source": [
    "k = 5\n",
    "hash_funcs = 200\n",
    "b = 20\n",
    "r = 10\n",
    "\n",
    "filtered_data = pd.read_csv('filtered_tweets_2022_abril_junio.csv', index_col=0, quotechar='\"')\n",
    "reduced_data = filtered_data[filtered_data['text'].apply(len) >= k]\n",
    "\n",
    "similar_items = set()\n",
    "with open(f\"similar_items_k={k}_hash_funcs={hash_funcs}_b={b}_r={r}.pkl\", 'rb') as f:\n",
    "    similar_items = pickle.load(f)\n",
    "\n",
    "unique_tweets = []\n",
    "with open(f\"unique_tweets_k={k}.pkl\", 'rb') as f:\n",
    "    unique_tweets = pickle.load(f)"
   ]
  },
  {
   "attachments": {},
   "cell_type": "markdown",
   "id": "ea590045",
   "metadata": {},
   "source": [
    "# Obtención de usuarios similares."
   ]
  },
  {
   "attachments": {},
   "cell_type": "markdown",
   "id": "db5c644b",
   "metadata": {},
   "source": [
    "Armamos un diccionario, donde la llave sera un tweet, y el valor sera una lista con todos los usuarios que tweetearon eso. Recordemos que hay varios tweets que fueron tweeteados por mas de 1 persona."
   ]
  },
  {
   "cell_type": "code",
   "execution_count": 4,
   "id": "840a0bd5",
   "metadata": {},
   "outputs": [],
   "source": [
    "tweets = {}\n",
    "tweets_per_user = {}\n",
    "\n",
    "for row in reduced_data.itertuples():\n",
    "\n",
    "    try:\n",
    "        if row.screen_name in tweets[row.text]:\n",
    "            continue\n",
    "        else:\n",
    "            tweets[row.text].append(row.screen_name)\n",
    "    except KeyError:\n",
    "        tweets[row.text] = [row.screen_name]\n",
    "    \n",
    "    try:\n",
    "        tweets_per_user[row.screen_name] += 1\n",
    "    except KeyError:\n",
    "        tweets_per_user[row.screen_name] = 1"
   ]
  },
  {
   "attachments": {},
   "cell_type": "markdown",
   "id": "8bdbe3e5",
   "metadata": {},
   "source": [
    "Ahora, obtenemos los usuarios que tweetearon tweets similares. Para esto, mantenemos un diccionario que como llave tendra una tupla de 2 usuarios $(u_{1}, u_{2})$, y como valor tendra la cantidad de tweets similares entre esos 2 usuarios.\n",
    "\n",
    "Para lograr esto, iteramos sobre todos los items similares $(i_{1}, i_{2})$, y para cada uno, obtenemos los usuarios que tweetearon el primer o segundo item. Luego, para cada par de usuarios $(u_{1}, u_{2})$ tal que $u_{1}$ tweeteo $i_{1}$ y $u_{2}$ tweeteo $i_{2}$, sumamos 1 al contador de $(u_{1}, u_{2})$."
   ]
  },
  {
   "cell_type": "code",
   "execution_count": 7,
   "id": "cb7adbcf",
   "metadata": {},
   "outputs": [
    {
     "name": "stderr",
     "output_type": "stream",
     "text": [
      "100%|██████████| 4716440/4716440 [00:22<00:00, 207169.19it/s]\n"
     ]
    }
   ],
   "source": [
    "similar_tweets_count = {}\n",
    "\n",
    "for first_id, second_id in tqdm(similar_items):\n",
    "\n",
    "    first_tweet = unique_tweets[first_id]\n",
    "    second_tweet = unique_tweets[second_id]\n",
    "\n",
    "    first_users = tweets[first_tweet]\n",
    "    second_users = tweets[second_tweet]\n",
    "\n",
    "    for first_user in first_users:\n",
    "        for second_user in second_users:\n",
    "            if first_user != second_user:\n",
    "                try:\n",
    "                    similar_tweets_count[(first_user, second_user)] += 1\n",
    "                except KeyError:\n",
    "                    similar_tweets_count[(first_user, second_user)] = 1"
   ]
  },
  {
   "cell_type": "code",
   "execution_count": 8,
   "id": "510d2626",
   "metadata": {},
   "outputs": [
    {
     "data": {
      "text/plain": [
       "1461006929"
      ]
     },
     "execution_count": 8,
     "metadata": {},
     "output_type": "execute_result"
    }
   ],
   "source": [
    "total_size(similar_tweets_count)"
   ]
  },
  {
   "attachments": {},
   "cell_type": "markdown",
   "id": "28881dd5",
   "metadata": {},
   "source": [
    "## Primer approach"
   ]
  },
  {
   "attachments": {},
   "cell_type": "markdown",
   "id": "43560694",
   "metadata": {},
   "source": [
    "Luego, obtenemos pares de personas que tweetean similar. Para esto, definimos dos umbrales. Primero, uno que corresponde a la cantidad mínima de tweets parecidos que ambas personas deben tener. Dicho de otra forma, la cantidad mínima de pares ($t_1$, $t_2$) tales que el primer usuario tweeteó $t_1$, el segundo tweeteó $t_2$, y $t_1$ y $t_2$ son similares.\n",
    "\n",
    "El segundo umbral corresponde al porcentaje de tweets que deben ser parecidos. Esto es, el porcentaje (donde 100% corresponde a la suma de la cantidad de tweets de ambos usuarios) de pares de tweets parecidos entre los usuarios.\n",
    "\n",
    "Si dos usuarios cumplen con ambos umbrales, entonces decimos que los usuarios tweetean de forma parecida."
   ]
  },
  {
   "cell_type": "code",
   "execution_count": 9,
   "id": "3a5fb1df",
   "metadata": {},
   "outputs": [
    {
     "name": "stderr",
     "output_type": "stream",
     "text": [
      "100%|██████████| 13488359/13488359 [00:06<00:00, 2244883.47it/s]\n"
     ]
    }
   ],
   "source": [
    "absolute_threshold = 5\n",
    "similar_threshold = 0.3\n",
    "\n",
    "similar_users_final = set()\n",
    "\n",
    "for key, item in tqdm(similar_tweets_count.items()):\n",
    "    first_user_tweets = tweets_per_user[key[0]]\n",
    "    second_user_tweets = tweets_per_user[key[1]]\n",
    "\n",
    "    ## Si los usuarios cumplen con ambos umbrales\n",
    "    if item >= similar_threshold * (first_user_tweets + second_user_tweets) and item >= absolute_threshold:\n",
    "        ## Los agregamos de tal forma que el primer elemento sea\n",
    "        ## siempre mayor al segundo, de nuevo para evitar duplicados.\n",
    "        if key[0] > key[1]:\n",
    "            similar_users_final.add(key)\n",
    "        else:\n",
    "            similar_users_final.add((key[1], key[0]))"
   ]
  },
  {
   "cell_type": "code",
   "execution_count": 10,
   "id": "0ca3ef49",
   "metadata": {},
   "outputs": [
    {
     "data": {
      "text/plain": [
       "249"
      ]
     },
     "execution_count": 10,
     "metadata": {},
     "output_type": "execute_result"
    }
   ],
   "source": [
    "len(similar_users_final)"
   ]
  },
  {
   "attachments": {},
   "cell_type": "markdown",
   "id": "b098d49d",
   "metadata": {},
   "source": [
    "De esta forma, obtenemos 249 pares de usuarios similares."
   ]
  },
  {
   "cell_type": "code",
   "execution_count": 11,
   "id": "220d3ad0",
   "metadata": {},
   "outputs": [
    {
     "data": {
      "text/plain": [
       "{('AION01', '777SHEM'),\n",
       " ('ArkonteR', '777SHEM'),\n",
       " ('CarlosKeppeler', 'Ana63490092'),\n",
       " ('CarmenGordonOfi', 'ArrendadoresC'),\n",
       " ('Cony_V', 'AlikaSukni'),\n",
       " ('Cotalvez', '777SHEM'),\n",
       " ('Cristobalitoo', 'Cony_V'),\n",
       " ('Daniiconsu', '777SHEM'),\n",
       " ('DaphneLack', '777SHEM'),\n",
       " ('Defenixacamale1', '777SHEM'),\n",
       " ('FFQuakeProject', '777SHEM'),\n",
       " ('FFQuakeProject', 'AION01'),\n",
       " ('FFQuakeProject', 'Cotalvez'),\n",
       " ('FFQuakeProject', 'Defenixacamale1'),\n",
       " ('FafuC', '777SHEM'),\n",
       " ('Fernand95382651', '777SHEM'),\n",
       " ('Fernand95382651', 'FFQuakeProject'),\n",
       " ('FigurasYeso', 'ArrendadoresC'),\n",
       " ('FranCarbone86', '777SHEM'),\n",
       " ('FranCarbone86', 'FFQuakeProject'),\n",
       " ('FrenteFantasma', '777SHEM'),\n",
       " ('FrenteFantasma', 'FFQuakeProject'),\n",
       " ('GEOWASHJOR', '777SHEM'),\n",
       " ('GEOWASHJOR', 'FFQuakeProject'),\n",
       " ('HorstWenzel7', 'FromAnAU'),\n",
       " ('HorstWenzel7', 'GaoliferOliver'),\n",
       " ('IreneZaiferluck', '777SHEM'),\n",
       " ('JaimeMedinaAlva', 'AlikaSukni'),\n",
       " ('JaimeMedinaAlva', 'Cony_V'),\n",
       " ('LAGRINGAMERCED1', '15_rosana'),\n",
       " ('LAGRINGAMERCED1', 'CelinaVillalb19'),\n",
       " ('LAGRINGAMERCED1', 'JorgeRMaidana'),\n",
       " ('LMManitas', 'LAGRINGAMERCED1'),\n",
       " ('LemaNilda', 'LAGRINGAMERCED1'),\n",
       " ('MITERRED', 'FreeMitko'),\n",
       " ('Marcelo34987440', 'HorstWenzel7'),\n",
       " ('Marioacunabuin', 'Mariana_SanBK'),\n",
       " ('Maritza11015251', 'AlikaSukni'),\n",
       " ('Maritza11015251', 'Cony_V'),\n",
       " ('Maritza11015251', 'JaimeMedinaAlva'),\n",
       " ('Mau_Resistencia', 'MarcosClarkG'),\n",
       " ('MauriPe94118894', 'CiudadanoRick'),\n",
       " ('MauriPe94118894', 'FromAnAU'),\n",
       " ('MauriPe94118894', 'GaoliferOliver'),\n",
       " ('MauriPe94118894', 'HorstWenzel7'),\n",
       " ('MauriPe94118894', 'JUANCEVIL'),\n",
       " ('MauriPe94118894', 'Marcelo34987440'),\n",
       " ('Maurici72819481', 'JeanetteVillena'),\n",
       " ('MdgSegunda', 'HorstWenzel7'),\n",
       " ('MiquioG', 'HorstWenzel7'),\n",
       " ('MiquioG', 'MauriPe94118894'),\n",
       " ('Natalia51435647', 'Carolinaha14'),\n",
       " ('Noticia26687079', 'EAxxxi'),\n",
       " ('OmRadioAr', 'OmNoticiasAr'),\n",
       " ('PATO_EUROPE', 'HorstWenzel7'),\n",
       " ('PATO_EUROPE', 'MauriPe94118894'),\n",
       " ('PaupinozaP', 'FranciscoRiosA'),\n",
       " ('RON1613', 'LAGRINGAMERCED1'),\n",
       " ('ROSAVAN06317868', 'ArrendadoresC'),\n",
       " ('Ralcof89', 'JeanetteVillena'),\n",
       " ('RedVialRC', 'OscarinOscarin_'),\n",
       " ('RiofrioMariela', '777SHEM'),\n",
       " ('Rockdirecto', 'LAGRINGAMERCED1'),\n",
       " ('SamuelTOwen3', 'MauriPe94118894'),\n",
       " ('SebastianPage15', 'HorstWenzel7'),\n",
       " ('SebastianPage15', 'MauriPe94118894'),\n",
       " ('TakuBartolo', '777SHEM'),\n",
       " ('TakuBartolo', 'FFQuakeProject'),\n",
       " ('Uribe19Uribe', 'JeanetteVillena'),\n",
       " ('Viento_Riagny', '777SHEM'),\n",
       " ('Viento_Riagny', 'FFQuakeProject'),\n",
       " ('_julin_', '777SHEM'),\n",
       " ('_julin_', 'FFQuakeProject'),\n",
       " ('aldosali', '777SHEM'),\n",
       " ('aldosali', 'FFQuakeProject'),\n",
       " ('andresOrmaeche9', 'MauriPe94118894'),\n",
       " ('andystefano', 'Ilustradocl'),\n",
       " ('arapuchkara', '777SHEM'),\n",
       " ('arapuchkara', 'FFQuakeProject'),\n",
       " ('atfr63', 'JeanetteVillena'),\n",
       " ('brucejavi3', 'MauriPe94118894'),\n",
       " ('brucejavi3', 'MiquioG'),\n",
       " ('casinfantiltomy', 'ArrendadoresC'),\n",
       " ('casinfantiltomy', 'CarmenGordonOfi'),\n",
       " ('chileno_solo', 'Andres29481117'),\n",
       " ('chileno_solo', 'Antonio8676'),\n",
       " ('chileno_solo', 'ESanhuezaR'),\n",
       " ('chileno_solo', 'FreeMitko'),\n",
       " ('chileno_solo', 'FromAnAU'),\n",
       " ('chileno_solo', 'GaoliferOliver'),\n",
       " ('chileno_solo', 'HAKIM_AZZIZ'),\n",
       " ('chileno_solo', 'HorstWenzel7'),\n",
       " ('chileno_solo', 'JUANCEVIL'),\n",
       " ('chileno_solo', 'MITERRED'),\n",
       " ('chileno_solo', 'MauriPe94118894'),\n",
       " ('chileno_solo', 'MdgSegunda'),\n",
       " ('chileno_solo', 'MiquioG'),\n",
       " ('chileno_solo', 'PATO_EUROPE'),\n",
       " ('chileno_solo', 'andresOrmaeche9'),\n",
       " ('chileno_solo', 'apruebo2022'),\n",
       " ('chileno_solo', 'arturophillipsp'),\n",
       " ('chileno_solo', 'brucejavi3'),\n",
       " ('cincinatochile', '777SHEM'),\n",
       " ('cmsepulvedan', 'HorstWenzel7'),\n",
       " ('cmsepulvedan', 'MauriPe94118894'),\n",
       " ('cmsepulvedan', 'chileno_solo'),\n",
       " ('cofeda', 'JeanetteVillena'),\n",
       " ('crcostag', 'CATALIN78333151'),\n",
       " ('crcostag', 'CarlosTD10S'),\n",
       " ('crcostag', 'CesarLeivaRubio'),\n",
       " ('crcostag', 'Cooke_Jr'),\n",
       " ('crcostag', 'F07954667'),\n",
       " ('crcostag', 'FelipeIgureta'),\n",
       " ('crcostag', 'Fernand41561474'),\n",
       " ('crcostag', 'FillaJonathan'),\n",
       " ('crcostag', 'FlavioYanez'),\n",
       " ('crcostag', 'JOCATALAN8'),\n",
       " ('crcostag', 'Jesus1234561231'),\n",
       " ('crcostag', 'JoseAngelR_'),\n",
       " ('crcostag', 'Lilandyg'),\n",
       " ('crcostag', 'Minina76120334'),\n",
       " ('crcostag', 'Paolacadiz5'),\n",
       " ('crcostag', 'PaulytaD_Q'),\n",
       " ('crcostag', 'Ps_Marcelo_V'),\n",
       " ('crcostag', 'Pupooo_Pablo'),\n",
       " ('crcostag', 'RCAChileUS'),\n",
       " ('crcostag', 'SanchaRocio'),\n",
       " ('crcostag', 'TeliasKetty'),\n",
       " ('danielosvaldo', 'JeanetteVillena'),\n",
       " ('danitomeison', '777SHEM'),\n",
       " ('danitomeison', 'FFQuakeProject'),\n",
       " ('darkshadegamer7', 'MauriPe94118894'),\n",
       " ('darthwilito', 'LanasEugenio'),\n",
       " ('dasc1986', '777SHEM'),\n",
       " ('dasc1986', 'FFQuakeProject'),\n",
       " ('duende_rebel', 'Mariana_SanBK'),\n",
       " ('duende_rebel', 'Marioacunabuin'),\n",
       " ('elpelon_79', 'crcostag'),\n",
       " ('erikavarlop', 'AlikaSukni'),\n",
       " ('erikavarlop', 'Cony_V'),\n",
       " ('erikavarlop', 'Cristobalitoo'),\n",
       " ('erikavarlop', 'JaimeMedinaAlva'),\n",
       " ('erikavarlop', 'Maritza11015251'),\n",
       " ('erwinconcon', 'MauriPe94118894'),\n",
       " ('fiscalesdechile', 'AlikaSukni'),\n",
       " ('fiscalesdechile', 'Cony_V'),\n",
       " ('fiscalesdechile', 'Cristobalitoo'),\n",
       " ('fiscalesdechile', 'JaimeMedinaAlva'),\n",
       " ('fiscalesdechile', 'Maritza11015251'),\n",
       " ('fiscalesdechile', 'erikavarlop'),\n",
       " ('fjguzmans', 'chileno_solo'),\n",
       " ('francis11lo', 'MiquioG'),\n",
       " ('francis11lo', 'chileno_solo'),\n",
       " ('fresia_vergara', '777SHEM'),\n",
       " ('fresia_vergara', 'FFQuakeProject'),\n",
       " ('geovanna_eliza', 'crcostag'),\n",
       " ('gustaflavia', '777SHEM'),\n",
       " ('gutipar', 'MartesdeMerino_'),\n",
       " ('ijaimepicon', '777SHEM'),\n",
       " ('il_camo', 'Carolinaha14'),\n",
       " ('il_camo', 'Natalia51435647'),\n",
       " ('il_camo', 'RodrguezGrodric'),\n",
       " ('intuiteo', '777SHEM'),\n",
       " ('intuiteo', 'FFQuakeProject'),\n",
       " ('ivansolanodj', '777SHEM'),\n",
       " ('ivansolanodj', 'FFQuakeProject'),\n",
       " ('jap1711', 'crcostag'),\n",
       " ('jeannettekaz', '777SHEM'),\n",
       " ('jeannettekaz', 'Cotalvez'),\n",
       " ('jeannettekaz', 'FFQuakeProject'),\n",
       " ('jeannettekaz', 'Fernand95382651'),\n",
       " ('jeannettekaz', 'FranCarbone86'),\n",
       " ('jeannettekaz', 'FrenteFantasma'),\n",
       " ('jeannettekaz', 'GEOWASHJOR'),\n",
       " ('jeannettekaz', 'TakuBartolo'),\n",
       " ('jeannettekaz', 'aldosali'),\n",
       " ('jeannettekaz', 'danitomeison'),\n",
       " ('jeannettekaz', 'dasc1986'),\n",
       " ('jeannettekaz', 'fresia_vergara'),\n",
       " ('jeannettekaz', 'intuiteo'),\n",
       " ('jeannettekaz', 'ivansolanodj'),\n",
       " ('juliodarth', '777SHEM'),\n",
       " ('juliodarth', 'FFQuakeProject'),\n",
       " ('karenspizarro', 'ArrendadoresC'),\n",
       " ('ldanitza0104', 'InformePandemia'),\n",
       " ('leeandroo_1', '777SHEM'),\n",
       " ('leeandroo_1', 'FFQuakeProject'),\n",
       " ('lelesdakis', 'crcostag'),\n",
       " ('libra_74', 'AlikaSukni'),\n",
       " ('libra_74', 'Cony_V'),\n",
       " ('libra_74', 'Maritza11015251'),\n",
       " ('libra_74', 'erikavarlop'),\n",
       " ('libra_74', 'fiscalesdechile'),\n",
       " ('luchingrado', 'crcostag'),\n",
       " ('luis_vallenar', 'HorstWenzel7'),\n",
       " ('luis_vallenar', 'MauriPe94118894'),\n",
       " ('luis_vallenar', 'brucejavi3'),\n",
       " ('luis_vallenar', 'chileno_solo'),\n",
       " ('maca_solomaca', '777SHEM'),\n",
       " ('marceloalonsoh', '777SHEM'),\n",
       " ('mariaes72070147', 'crcostag'),\n",
       " ('mariaesterpared', '777SHEM'),\n",
       " ('mariaesterpared', 'FFQuakeProject'),\n",
       " ('mariaesterpared', 'jeannettekaz'),\n",
       " ('mascotalerta', 'Salvandopatit4s'),\n",
       " ('maviles10', 'gutipar'),\n",
       " ('mceciliaorrego', 'MauriPe94118894'),\n",
       " ('mceciliaorrego', 'chileno_solo'),\n",
       " ('mervinalvarado3', 'LAGRINGAMERCED1'),\n",
       " ('misma_ella', 'il_camo'),\n",
       " ('moya_pamela', 'crcostag'),\n",
       " ('mrfranopazo', 'crcostag'),\n",
       " ('mrmojorising133', 'chileno_solo'),\n",
       " ('no_sigo_famosos', 'ALTER_Almeria'),\n",
       " ('nonchordal', 'Carolinaha14'),\n",
       " ('nonchordal', 'Natalia51435647'),\n",
       " ('ocgo81', 'malu1508'),\n",
       " ('oscarpradenas22', 'chileno_solo'),\n",
       " ('pachy12157345', '777SHEM'),\n",
       " ('panchitof', 'il_camo'),\n",
       " ('pitirre7', 'Noticia26687079'),\n",
       " ('red_ayuda', '777SHEM'),\n",
       " ('rriffob', 'crcostag'),\n",
       " ('sanchezdetalca', 'AlikaSukni'),\n",
       " ('sanchezdetalca', 'Cony_V'),\n",
       " ('sanchezdetalca', 'JaimeMedinaAlva'),\n",
       " ('sanchezdetalca', 'Maritza11015251'),\n",
       " ('sanchezdetalca', 'erikavarlop'),\n",
       " ('sanchezdetalca', 'fiscalesdechile'),\n",
       " ('sanchezdetalca', 'libra_74'),\n",
       " ('seguimosxrenato', '777SHEM'),\n",
       " ('seguimosxrenato', 'FFQuakeProject'),\n",
       " ('shantal1972', 'Salvandopatit4s'),\n",
       " ('shantal1972', 'mascotalerta'),\n",
       " ('soleirribarra', '777SHEM'),\n",
       " ('soleirribarra', 'FFQuakeProject'),\n",
       " ('soleirribarra', 'jeannettekaz'),\n",
       " ('soyasi_3', '777SHEM'),\n",
       " ('taxusrock', '777SHEM'),\n",
       " ('tigerwolfcommun', 'MauriPe94118894'),\n",
       " ('tigerwolfcommun', 'chileno_solo'),\n",
       " ('tjholt', '777SHEM'),\n",
       " ('tugsteno74', '777SHEM'),\n",
       " ('umacollo', '777SHEM'),\n",
       " ('umacollo', 'FFQuakeProject'),\n",
       " ('umacollo', 'jeannettekaz'),\n",
       " ('valeriabrv', 'crcostag'),\n",
       " ('vivaChileo', 'crcostag'),\n",
       " ('xiqui03887670', 'chileno_solo')}"
      ]
     },
     "execution_count": 11,
     "metadata": {},
     "output_type": "execute_result"
    }
   ],
   "source": [
    "similar_users_final"
   ]
  },
  {
   "attachments": {},
   "cell_type": "markdown",
   "id": "d8395298",
   "metadata": {},
   "source": [
    "A modo de ejemplo, mostramos los tweets de un par de usuarios similares según lo de arriba."
   ]
  },
  {
   "cell_type": "code",
   "execution_count": 28,
   "id": "7effe1b8",
   "metadata": {},
   "outputs": [
    {
     "data": {
      "text/plain": [
       "['RT @LuisaSepulvedaA: @CarmenGordonOfi @chilevision @ppddiputados @PCdeChile @elfrente_amplio @ChilePDGcl @Presidencia_cl @GiorgioJackson @S…',\n",
       " 'RT @CarmenGordonOfi: @LuisaSepulvedaA @chilevision @ppddiputados @PCdeChile @elfrente_amplio @ChilePDGcl @Presidencia_cl @GiorgioJackson @S…',\n",
       " 'RT @CarmenGordonOfi: @LuisaSepulvedaA @chilevision @ppddiputados @PCdeChile @elfrente_amplio @ChilePDGcl @Presidencia_cl @GiorgioJackson @S…',\n",
       " 'RT @CarmenGordonOfi: @LuisaSepulvedaA @chilevision @ppddiputados @PCdeChile @elfrente_amplio @ChilePDGcl @Presidencia_cl @GiorgioJackson @S…',\n",
       " 'RT @CarmenGordonOfi: @chilevision @ppddiputados @PCdeChile @elfrente_amplio @ChilePDGcl @Presidencia_cl @GiorgioJackson @Segpres @Arrendado…',\n",
       " 'RT @CarmenGordonOfi: @LuisaSepulvedaA @chilevision @ppddiputados @PCdeChile @elfrente_amplio @ChilePDGcl @Presidencia_cl @GiorgioJackson @S…',\n",
       " 'RT @CarmenGordonOfi: @LuisaSepulvedaA @chilevision @ppddiputados @PCdeChile @elfrente_amplio @ChilePDGcl @Presidencia_cl @GiorgioJackson @S…',\n",
       " 'RT @skc000: @LuisaSepulvedaA @CarmenGordonOfi @chilevision @ppddiputados @PCdeChile @elfrente_amplio @ChilePDGcl @Presidencia_cl @GiorgioJa…']"
      ]
     },
     "execution_count": 28,
     "metadata": {},
     "output_type": "execute_result"
    }
   ],
   "source": [
    "list(reduced_data[reduced_data['screen_name'] == 'CarmenGordonOfi'].text)"
   ]
  },
  {
   "cell_type": "code",
   "execution_count": 29,
   "id": "6ea48e00",
   "metadata": {},
   "outputs": [
    {
     "data": {
      "text/plain": [
       "['RT @LuisaSepulvedaA: @CarmenGordonOfi @chilevision @ppddiputados @PCdeChile @elfrente_amplio @ChilePDGcl @Presidencia_cl @GiorgioJackson @S…',\n",
       " 'RT @LuisaSepulvedaA: @CarmenGordonOfi @chilevision @ppddiputados @PCdeChile @elfrente_amplio @ChilePDGcl @Presidencia_cl @GiorgioJackson @S…',\n",
       " 'RT @namegeorge: @skc000 @LuisaSepulvedaA @CarmenGordonOfi @chilevision @ppddiputados @PCdeChile @elfrente_amplio @ChilePDGcl @Presidencia_c…',\n",
       " 'RT @skc000: @LuisaSepulvedaA @CarmenGordonOfi @chilevision @ppddiputados @PCdeChile @elfrente_amplio @ChilePDGcl @Presidencia_cl @GiorgioJa…',\n",
       " 'RT @LuisaSepulvedaA: @CarmenGordonOfi @chilevision @ppddiputados @PCdeChile @elfrente_amplio @ChilePDGcl @Presidencia_cl @GiorgioJackson @S…',\n",
       " 'RT @Rossana90895427: @Emaa20188276 @Raul_Soto1 @Marcemomo @hector_ulloaa @gabrielboric @i_krmns @ArrendadoresC necesitamos, rapidez y fluid…',\n",
       " 'RT @CarmenGordonOfi: @LuisaSepulvedaA @chilevision @ppddiputados @PCdeChile @elfrente_amplio @ChilePDGcl @Presidencia_cl @GiorgioJackson @S…',\n",
       " 'RT @CarmenGordonOfi: @LuisaSepulvedaA @chilevision @ppddiputados @PCdeChile @elfrente_amplio @ChilePDGcl @Presidencia_cl @GiorgioJackson @S…',\n",
       " 'RT @CarmenGordonOfi: @chilevision @ppddiputados @PCdeChile @elfrente_amplio @ChilePDGcl @Presidencia_cl @GiorgioJackson @Segpres @Arrendado…']"
      ]
     },
     "execution_count": 29,
     "metadata": {},
     "output_type": "execute_result"
    }
   ],
   "source": [
    "list(reduced_data[reduced_data['screen_name'] == 'ArrendadoresC'].text)"
   ]
  },
  {
   "attachments": {},
   "cell_type": "markdown",
   "id": "4857f442",
   "metadata": {},
   "source": [
    "## Segundo approach.\n",
    "Un problema con lo de arriba son las personas que tienen muchos tweets casi iguales (como 777SHEM). Esto hace que si otra persona tiene 1 tweet similar a alguno de 777SHEM, entonces ese tweet es similar a todos los de 777SHEM, lo que hace que se cumplan ambos umbrales, y sean reportados como pares similares.\n",
    "\n",
    "Para solucionar esto, proponemos el siguiente approach. Ahora, mantenemos un diccionario cuyas llaves son un par de usuarios ($u_1$, $u_2$), y su valor corresponde a los tweets de $u_1$ que son parecidos a al menos un tweet de $u_2$. Notemos que ahora el orden si importa, o sea el valor de la llave ($u_1$, $u_2$) es distinto al de ($u_2$, $u_1$). Además, como guardamos una lista en vez de solamente un contador, esto también usa mucha más memoria. Sin embargo, ahora podemos saber la cantidad de tweets de $u_1$ que son similares a al menos un tweet de $u_2$ y vice-versa (con el approach anterior, no podíamos saber esto). Entonces, podemos definir mejor las condiciones de los umbrales. Podemos definir que dos usuarios tweetean similar cuando al menos un s% de los tweets de $u_1$ son similares a algún tweet de $u_2$ y vice-versa, lo que soluciona el problema anterior."
   ]
  },
  {
   "cell_type": "code",
   "execution_count": 32,
   "id": "bf8a9c0b",
   "metadata": {},
   "outputs": [
    {
     "name": "stderr",
     "output_type": "stream",
     "text": [
      "100%|██████████| 4716440/4716440 [00:54<00:00, 85933.31it/s] \n"
     ]
    }
   ],
   "source": [
    "similar_tweets_second_approach = {}\n",
    "\n",
    "for first_id, second_id in tqdm(similar_items):\n",
    "\n",
    "    first_tweet = unique_tweets[first_id]\n",
    "    second_tweet = unique_tweets[second_id]\n",
    "\n",
    "    first_users = tweets[first_tweet]\n",
    "    second_users = tweets[second_tweet]\n",
    "\n",
    "    for first_user in first_users:\n",
    "        for second_user in second_users:\n",
    "            if first_user != second_user:\n",
    "                try:\n",
    "                    similar_tweets_second_approach[(first_user, second_user)].append(first_id)\n",
    "                    similar_tweets_second_approach[(second_user, first_user)].append(second_id)\n",
    "                except KeyError:\n",
    "                    similar_tweets_second_approach[(first_user, second_user)] = [first_id]\n",
    "                    similar_tweets_second_approach[(second_user, first_user)] = [second_id]\n",
    "    \n"
   ]
  },
  {
   "cell_type": "code",
   "execution_count": 33,
   "id": "5d31c8ad",
   "metadata": {},
   "outputs": [
    {
     "data": {
      "text/plain": [
       "4748835645"
      ]
     },
     "execution_count": 33,
     "metadata": {},
     "output_type": "execute_result"
    }
   ],
   "source": [
    "total_size(similar_tweets_second_approach)"
   ]
  },
  {
   "attachments": {},
   "cell_type": "markdown",
   "id": "9a0e77e2",
   "metadata": {},
   "source": [
    "Usar esta estrategia requiere 4.7GB de memoria."
   ]
  },
  {
   "cell_type": "code",
   "execution_count": 35,
   "id": "92290ca1",
   "metadata": {},
   "outputs": [
    {
     "name": "stderr",
     "output_type": "stream",
     "text": [
      "100%|██████████| 24733290/24733290 [00:18<00:00, 1327160.37it/s]\n"
     ]
    }
   ],
   "source": [
    "absolute_threshold = 5\n",
    "similar_threshold = 0.3\n",
    "\n",
    "similar_users_final_test = set()\n",
    "\n",
    "for key, item in tqdm(similar_tweets_second_approach.items()):\n",
    "    if key[0] > key[1]:\n",
    "        continue\n",
    "\n",
    "    second_user_similar = similar_tweets_second_approach[(key[1], key[0])]\n",
    "\n",
    "    ## Cantidad de tweets del primer usuario\n",
    "    first_user_tweets = tweets_per_user[key[0]]\n",
    "    ## Cantidad de tweets del segundo usuario\n",
    "    second_user_tweets = tweets_per_user[key[1]]\n",
    "\n",
    "    ## Cantidad de tweets del primer usuario parecidos a\n",
    "    ## algun tweet del segundo usuario\n",
    "    first_match_count = len(set(item))\n",
    "    ## Cantidad de tweets del segundo usuario parecidos a\n",
    "    ## algun tweet del primer usuario\n",
    "    second_match_count = len(set(second_user_similar))\n",
    "    \n",
    "    if first_match_count > similar_threshold * first_user_tweets and second_match_count > similar_threshold * second_user_tweets and \\\n",
    "        first_match_count > absolute_threshold and second_match_count > absolute_threshold:\n",
    "        similar_users_final_test.add(key)\n"
   ]
  },
  {
   "cell_type": "code",
   "execution_count": 36,
   "id": "0beec401",
   "metadata": {},
   "outputs": [
    {
     "data": {
      "text/plain": [
       "27"
      ]
     },
     "execution_count": 36,
     "metadata": {},
     "output_type": "execute_result"
    }
   ],
   "source": [
    "len(similar_users_final_test)"
   ]
  },
  {
   "attachments": {},
   "cell_type": "markdown",
   "id": "e72c9ef0",
   "metadata": {},
   "source": [
    "Esta vez, obtenemos solo 27 usuarios."
   ]
  },
  {
   "cell_type": "code",
   "execution_count": 37,
   "id": "198470d4",
   "metadata": {},
   "outputs": [
    {
     "data": {
      "text/plain": [
       "{('777SHEM', 'FFQuakeProject'),\n",
       " ('777SHEM', 'jeannettekaz'),\n",
       " ('AlikaSukni', 'Cony_V'),\n",
       " ('AlikaSukni', 'Maritza11015251'),\n",
       " ('AlikaSukni', 'erikavarlop'),\n",
       " ('AlikaSukni', 'fiscalesdechile'),\n",
       " ('AlikaSukni', 'sanchezdetalca'),\n",
       " ('Cony_V', 'Maritza11015251'),\n",
       " ('Cony_V', 'erikavarlop'),\n",
       " ('Cony_V', 'fiscalesdechile'),\n",
       " ('Cony_V', 'sanchezdetalca'),\n",
       " ('FFQuakeProject', 'jeannettekaz'),\n",
       " ('FreeMitko', 'MITERRED'),\n",
       " ('Ilustradocl', 'andystefano'),\n",
       " ('Mariana_SanBK', 'Marioacunabuin'),\n",
       " ('Mariana_SanBK', 'duende_rebel'),\n",
       " ('Marioacunabuin', 'duende_rebel'),\n",
       " ('Maritza11015251', 'erikavarlop'),\n",
       " ('Maritza11015251', 'fiscalesdechile'),\n",
       " ('Maritza11015251', 'sanchezdetalca'),\n",
       " ('OmNoticiasAr', 'OmRadioAr'),\n",
       " ('PTV_Noticias', 'PanamericanaTV'),\n",
       " ('erikavarlop', 'fiscalesdechile'),\n",
       " ('erikavarlop', 'libra_74'),\n",
       " ('erikavarlop', 'sanchezdetalca'),\n",
       " ('fiscalesdechile', 'libra_74'),\n",
       " ('fiscalesdechile', 'sanchezdetalca')}"
      ]
     },
     "execution_count": 37,
     "metadata": {},
     "output_type": "execute_result"
    }
   ],
   "source": [
    "similar_users_final_test"
   ]
  },
  {
   "attachments": {},
   "cell_type": "markdown",
   "id": "fb9329c4",
   "metadata": {},
   "source": [
    "A modo de ejemplo, mostramos 2 usuarios parecidos."
   ]
  },
  {
   "cell_type": "code",
   "execution_count": 40,
   "id": "498e9601",
   "metadata": {},
   "outputs": [
    {
     "data": {
      "text/plain": [
       "['Desde “pervertido” a “escombro”: la fuerte pelea entre Fulvio Rossi y Jorge Baradit en\\xa0Twitter https://t.co/nBfPZMmRMq',\n",
       " 'La ironía de Jorge Baradit tras llamativo discurso en la\\xa0Convención https://t.co/mbH4l3dtyN',\n",
       " 'Madre de Boric: “Gabriel se inmoló por la Convención\\xa0Constitucional” https://t.co/mTZf3nUeEn',\n",
       " 'Estudio indica que 58% de las personas ha recibido información falsa sobre la Convención\\xa0Constitucional https://t.co/xsGp285rmc',\n",
       " 'Javier Olivares indignado con la Convención Constitucional y dice que quieren eliminar a\\xa0“Carabineros” https://t.co/vUa1ihvMO2',\n",
       " 'Teresa Marinovic confirma que donará todo el dinero que ha ganado en la Convención\\xa0Constitucional https://t.co/YnjA7d5KIb',\n",
       " 'Ministra Jara y presidenta de la Convención Constitucional encabezaron marcha del Día del\\xa0Trabajador https://t.co/76cbp2yR4W',\n",
       " 'El nuevo pataleo de Teresa Marinovic: rechazó respaldo de Izkia Siches a la Convención\\xa0Constitucional\\u200b https://t.co/NF0BQ3mWcb',\n",
       " 'Guarello dice que Baradit cobró por dar charla en escuela\\xa0rural https://t.co/4AbZx1ICOP',\n",
       " 'Rayan monumento de Huanchaca en contra de la Convención Constitucional\\xa0|FOTO https://t.co/QMyNX2M5nJ']"
      ]
     },
     "execution_count": 40,
     "metadata": {},
     "output_type": "execute_result"
    }
   ],
   "source": [
    "list(reduced_data[reduced_data['screen_name'] == 'Ilustradocl'].text)"
   ]
  },
  {
   "cell_type": "code",
   "execution_count": 41,
   "id": "4f2c91d4",
   "metadata": {},
   "outputs": [
    {
     "data": {
      "text/plain": [
       "['La ironía de Jorge Baradit tras llamativo discurso en la\\xa0Convención https://t.co/U6kUfx2hgF',\n",
       " 'Desde “pervertido” a “escombro”: la fuerte pelea entre Fulvio Rossi y Jorge Baradit en\\xa0Twitter https://t.co/ndDdTsb1Fj',\n",
       " 'Madre de Boric: “Gabriel se inmoló por la Convención\\xa0Constitucional” https://t.co/7jTjErNU1M',\n",
       " 'Estudio indica que 58% de las personas ha recibido información falsa sobre la Convención\\xa0Constitucional https://t.co/9K5sQ2jS02',\n",
       " 'Javier Olivares indignado con la Convención Constitucional y dice que quieren eliminar a\\xa0“Carabineros” https://t.co/TA0febn6kw',\n",
       " 'Teresa Marinovic confirma que donará todo el dinero que ha ganado en la Convención\\xa0Constitucional https://t.co/2uxQ3WchYO',\n",
       " 'El nuevo pataleo de Teresa Marinovic: rechazó respaldo de Izkia Siches a la Convención\\xa0Constitucional\\u200b https://t.co/6ep9cSxOfw',\n",
       " 'Rayan monumento de Huanchaca en contra de la Convención Constitucional\\xa0|FOTO https://t.co/CQAAGyNkli',\n",
       " 'Guarello dice que Baradit cobró por dar charla en escuela\\xa0rural https://t.co/Wgh6qul0lg',\n",
       " 'Ministra Jara y presidenta de la Convención Constitucional encabezaron marcha del Día del\\xa0Trabajador https://t.co/OJq6WnBIL2']"
      ]
     },
     "execution_count": 41,
     "metadata": {},
     "output_type": "execute_result"
    }
   ],
   "source": [
    "list(reduced_data[reduced_data['screen_name'] == 'andystefano'].text)"
   ]
  },
  {
   "attachments": {},
   "cell_type": "markdown",
   "id": "ca61959b",
   "metadata": {},
   "source": [
    "## Resultados"
   ]
  },
  {
   "attachments": {},
   "cell_type": "markdown",
   "id": "5e60e207",
   "metadata": {},
   "source": [
    "A continuación, dejamos un código para visualizar los tweets de usuarios parecidos."
   ]
  },
  {
   "cell_type": "code",
   "execution_count": 47,
   "id": "0a323aa3",
   "metadata": {},
   "outputs": [
    {
     "name": "stdout",
     "output_type": "stream",
     "text": [
      "First user tweets:\n",
      "RT @LuisaSepulvedaA: @CarmenGordonOfi @chilevision @ppddiputados @PCdeChile @elfrente_amplio @ChilePDGcl @Presidencia_cl @GiorgioJackson @S…\n",
      "RT @CarmenGordonOfi: @LuisaSepulvedaA @chilevision @ppddiputados @PCdeChile @elfrente_amplio @ChilePDGcl @Presidencia_cl @GiorgioJackson @S…\n",
      "RT @CarmenGordonOfi: @LuisaSepulvedaA @chilevision @ppddiputados @PCdeChile @elfrente_amplio @ChilePDGcl @Presidencia_cl @GiorgioJackson @S…\n",
      "RT @CarmenGordonOfi: @LuisaSepulvedaA @chilevision @ppddiputados @PCdeChile @elfrente_amplio @ChilePDGcl @Presidencia_cl @GiorgioJackson @S…\n",
      "RT @CarmenGordonOfi: @chilevision @ppddiputados @PCdeChile @elfrente_amplio @ChilePDGcl @Presidencia_cl @GiorgioJackson @Segpres @Arrendado…\n",
      "RT @CarmenGordonOfi: @LuisaSepulvedaA @chilevision @ppddiputados @PCdeChile @elfrente_amplio @ChilePDGcl @Presidencia_cl @GiorgioJackson @S…\n",
      "RT @CarmenGordonOfi: @LuisaSepulvedaA @chilevision @ppddiputados @PCdeChile @elfrente_amplio @ChilePDGcl @Presidencia_cl @GiorgioJackson @S…\n",
      "RT @skc000: @LuisaSepulvedaA @CarmenGordonOfi @chilevision @ppddiputados @PCdeChile @elfrente_amplio @ChilePDGcl @Presidencia_cl @GiorgioJa…\n",
      "\n",
      "Second user tweets:\n",
      "RT @LuisaSepulvedaA: @CarmenGordonOfi @chilevision @ppddiputados @PCdeChile @elfrente_amplio @ChilePDGcl @Presidencia_cl @GiorgioJackson @S…\n",
      "RT @LuisaSepulvedaA: @CarmenGordonOfi @chilevision @ppddiputados @PCdeChile @elfrente_amplio @ChilePDGcl @Presidencia_cl @GiorgioJackson @S…\n",
      "RT @namegeorge: @skc000 @LuisaSepulvedaA @CarmenGordonOfi @chilevision @ppddiputados @PCdeChile @elfrente_amplio @ChilePDGcl @Presidencia_c…\n",
      "RT @skc000: @LuisaSepulvedaA @CarmenGordonOfi @chilevision @ppddiputados @PCdeChile @elfrente_amplio @ChilePDGcl @Presidencia_cl @GiorgioJa…\n",
      "RT @LuisaSepulvedaA: @CarmenGordonOfi @chilevision @ppddiputados @PCdeChile @elfrente_amplio @ChilePDGcl @Presidencia_cl @GiorgioJackson @S…\n",
      "RT @Rossana90895427: @Emaa20188276 @Raul_Soto1 @Marcemomo @hector_ulloaa @gabrielboric @i_krmns @ArrendadoresC necesitamos, rapidez y fluid…\n",
      "RT @CarmenGordonOfi: @LuisaSepulvedaA @chilevision @ppddiputados @PCdeChile @elfrente_amplio @ChilePDGcl @Presidencia_cl @GiorgioJackson @S…\n",
      "RT @CarmenGordonOfi: @LuisaSepulvedaA @chilevision @ppddiputados @PCdeChile @elfrente_amplio @ChilePDGcl @Presidencia_cl @GiorgioJackson @S…\n",
      "RT @CarmenGordonOfi: @chilevision @ppddiputados @PCdeChile @elfrente_amplio @ChilePDGcl @Presidencia_cl @GiorgioJackson @Segpres @Arrendado…\n"
     ]
    }
   ],
   "source": [
    "similar_users = ('CarmenGordonOfi', 'ArrendadoresC')\n",
    "\n",
    "first_user_tweets = list(reduced_data[reduced_data['screen_name'] == similar_users[0]].text)\n",
    "second_user_tweets = list(reduced_data[reduced_data['screen_name'] == similar_users[1]].text)\n",
    "\n",
    "print(\"First user tweets:\")\n",
    "for item in first_user_tweets:\n",
    "    print(item)\n",
    "\n",
    "print()\n",
    "\n",
    "print('Second user tweets:')\n",
    "for item in second_user_tweets:\n",
    "    print(item)\n"
   ]
  }
 ],
 "metadata": {
  "kernelspec": {
   "display_name": "env",
   "language": "python",
   "name": "python3"
  },
  "language_info": {
   "codemirror_mode": {
    "name": "ipython",
    "version": 3
   },
   "file_extension": ".py",
   "mimetype": "text/x-python",
   "name": "python",
   "nbconvert_exporter": "python",
   "pygments_lexer": "ipython3",
   "version": "3.8.10"
  }
 },
 "nbformat": 4,
 "nbformat_minor": 5
}
