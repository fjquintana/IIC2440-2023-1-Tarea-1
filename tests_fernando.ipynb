{
 "cells": [
  {
   "attachments": {},
   "cell_type": "markdown",
   "id": "c4125e04",
   "metadata": {},
   "source": [
    "# Importar datos"
   ]
  },
  {
   "cell_type": "code",
   "execution_count": 1,
   "id": "4894200c",
   "metadata": {},
   "outputs": [],
   "source": [
    "import pandas as pd\n",
    "import numpy as np\n",
    "import csv"
   ]
  },
  {
   "cell_type": "code",
   "execution_count": 2,
   "id": "5b08b9ce",
   "metadata": {},
   "outputs": [],
   "source": [
    "data = pd.read_csv('tweets_2022_abril_junio.csv')"
   ]
  },
  {
   "cell_type": "code",
   "execution_count": 59,
   "id": "a95da1a3",
   "metadata": {},
   "outputs": [
    {
     "data": {
      "text/html": [
       "<div>\n",
       "<style scoped>\n",
       "    .dataframe tbody tr th:only-of-type {\n",
       "        vertical-align: middle;\n",
       "    }\n",
       "\n",
       "    .dataframe tbody tr th {\n",
       "        vertical-align: top;\n",
       "    }\n",
       "\n",
       "    .dataframe thead th {\n",
       "        text-align: right;\n",
       "    }\n",
       "</style>\n",
       "<table border=\"1\" class=\"dataframe\">\n",
       "  <thead>\n",
       "    <tr style=\"text-align: right;\">\n",
       "      <th></th>\n",
       "      <th>id</th>\n",
       "      <th>created_at</th>\n",
       "      <th>screen_name</th>\n",
       "      <th>text</th>\n",
       "      <th>favorite_count</th>\n",
       "      <th>retweet_count</th>\n",
       "    </tr>\n",
       "  </thead>\n",
       "  <tbody>\n",
       "    <tr>\n",
       "      <th>0</th>\n",
       "      <td>1512186166438637582</td>\n",
       "      <td>2022-04-07 21:50:51 UTC</td>\n",
       "      <td>h0l4d4ni3l4</td>\n",
       "      <td>RT @ValeMirandaCC: Tras casi 50 años del golpe...</td>\n",
       "      <td>0</td>\n",
       "      <td>0</td>\n",
       "    </tr>\n",
       "    <tr>\n",
       "      <th>1</th>\n",
       "      <td>1512186202367045642</td>\n",
       "      <td>2022-04-07 21:51:00 UTC</td>\n",
       "      <td>Claudio70932894</td>\n",
       "      <td>RT @UTDTrabajoDigno: Mañana jueves a las 18hrs...</td>\n",
       "      <td>0</td>\n",
       "      <td>0</td>\n",
       "    </tr>\n",
       "    <tr>\n",
       "      <th>2</th>\n",
       "      <td>1512186287284924418</td>\n",
       "      <td>2022-04-07 21:51:20 UTC</td>\n",
       "      <td>Cesar_A_RR</td>\n",
       "      <td>RT @JaimeGuajardoR: Aquí está el aporte de @te...</td>\n",
       "      <td>0</td>\n",
       "      <td>0</td>\n",
       "    </tr>\n",
       "    <tr>\n",
       "      <th>3</th>\n",
       "      <td>1512186335754301446</td>\n",
       "      <td>2022-04-07 21:51:32 UTC</td>\n",
       "      <td>rosmarieher</td>\n",
       "      <td>RT @melnicksergio: la pelotudez no tiene limit...</td>\n",
       "      <td>0</td>\n",
       "      <td>0</td>\n",
       "    </tr>\n",
       "    <tr>\n",
       "      <th>4</th>\n",
       "      <td>1512186407841767424</td>\n",
       "      <td>2022-04-07 21:51:49 UTC</td>\n",
       "      <td>GQuelluen</td>\n",
       "      <td>RT @BSepulvedaHales: Ante la circulación de no...</td>\n",
       "      <td>0</td>\n",
       "      <td>0</td>\n",
       "    </tr>\n",
       "  </tbody>\n",
       "</table>\n",
       "</div>"
      ],
      "text/plain": [
       "                    id               created_at      screen_name   \n",
       "0  1512186166438637582  2022-04-07 21:50:51 UTC      h0l4d4ni3l4  \\\n",
       "1  1512186202367045642  2022-04-07 21:51:00 UTC  Claudio70932894   \n",
       "2  1512186287284924418  2022-04-07 21:51:20 UTC       Cesar_A_RR   \n",
       "3  1512186335754301446  2022-04-07 21:51:32 UTC      rosmarieher   \n",
       "4  1512186407841767424  2022-04-07 21:51:49 UTC        GQuelluen   \n",
       "\n",
       "                                                text  favorite_count   \n",
       "0  RT @ValeMirandaCC: Tras casi 50 años del golpe...               0  \\\n",
       "1  RT @UTDTrabajoDigno: Mañana jueves a las 18hrs...               0   \n",
       "2  RT @JaimeGuajardoR: Aquí está el aporte de @te...               0   \n",
       "3  RT @melnicksergio: la pelotudez no tiene limit...               0   \n",
       "4  RT @BSepulvedaHales: Ante la circulación de no...               0   \n",
       "\n",
       "   retweet_count  \n",
       "0              0  \n",
       "1              0  \n",
       "2              0  \n",
       "3              0  \n",
       "4              0  "
      ]
     },
     "execution_count": 59,
     "metadata": {},
     "output_type": "execute_result"
    }
   ],
   "source": [
    "data.head()"
   ]
  },
  {
   "attachments": {},
   "cell_type": "markdown",
   "id": "d5778d0d",
   "metadata": {},
   "source": [
    "# FIlter inicial"
   ]
  },
  {
   "attachments": {},
   "cell_type": "markdown",
   "id": "dcea8332",
   "metadata": {},
   "source": [
    "Quiza filtar datos que no importan, como el created_at, o el favorite_count, retweet_count"
   ]
  },
  {
   "cell_type": "code",
   "execution_count": 61,
   "id": "f1988120",
   "metadata": {},
   "outputs": [],
   "source": [
    "filtered_data_raw = data.filter(items=['id', 'screen_name', 'text'])"
   ]
  },
  {
   "cell_type": "code",
   "execution_count": 62,
   "id": "13fd3f6f",
   "metadata": {},
   "outputs": [],
   "source": [
    "filtered_data = filtered_data_raw.astype({'screen_name': 'string', 'text': 'string'})"
   ]
  },
  {
   "cell_type": "code",
   "execution_count": 34,
   "id": "82408158",
   "metadata": {},
   "outputs": [
    {
     "data": {
      "text/plain": [
       "id                      int64\n",
       "screen_name    string[python]\n",
       "text           string[python]\n",
       "dtype: object"
      ]
     },
     "execution_count": 34,
     "metadata": {},
     "output_type": "execute_result"
    }
   ],
   "source": [
    "filtered_data.dtypes"
   ]
  },
  {
   "cell_type": "code",
   "execution_count": 39,
   "id": "5c111145",
   "metadata": {},
   "outputs": [
    {
     "data": {
      "text/plain": [
       "False"
      ]
     },
     "execution_count": 39,
     "metadata": {},
     "output_type": "execute_result"
    }
   ],
   "source": [
    "any(filtered_data['id'].isna())"
   ]
  },
  {
   "cell_type": "code",
   "execution_count": 63,
   "id": "3d702572",
   "metadata": {},
   "outputs": [],
   "source": [
    "filtered_data.to_csv('filtered_tweets_2022_abril_junio.csv', quotechar='\"', quoting=csv.QUOTE_NONNUMERIC)"
   ]
  },
  {
   "attachments": {},
   "cell_type": "markdown",
   "id": "5813b935",
   "metadata": {},
   "source": [
    "# Crear shingles de los textos"
   ]
  },
  {
   "cell_type": "code",
   "execution_count": 3,
   "id": "7f22365c",
   "metadata": {},
   "outputs": [],
   "source": [
    "filtered_data = pd.read_csv('filtered_tweets_2022_abril_junio.csv', index_col=0, quotechar='\"')"
   ]
  },
  {
   "cell_type": "code",
   "execution_count": 4,
   "id": "f5e2d54f",
   "metadata": {},
   "outputs": [],
   "source": [
    "def k_shingle(text, k=5):\n",
    "    shingles = set()\n",
    "    for idx in range(len(text) - k):\n",
    "        curr_slice = text[idx : idx + k]\n",
    "        shingles.add(curr_slice)\n",
    "    return shingles\n",
    "\n",
    "def k_shingle_update(text, k=5):\n",
    "    shingles = set()\n",
    "    shingles.update([text[idx : idx + k] for idx in range(len(text) - k)])\n",
    "    return shingles\n",
    "\n"
   ]
  },
  {
   "cell_type": "code",
   "execution_count": 5,
   "id": "3f76d84d",
   "metadata": {},
   "outputs": [
    {
     "name": "stdout",
     "output_type": "stream",
     "text": [
      "i: 0\n",
      "i: 100000\n",
      "i: 200000\n",
      "i: 300000\n",
      "i: 400000\n",
      "i: 500000\n",
      "i: 600000\n",
      "i: 700000\n",
      "i: 800000\n",
      "i: 900000\n",
      "i: 1000000\n",
      "i: 1100000\n",
      "i: 1200000\n",
      "i: 1300000\n",
      "i: 1400000\n",
      "i: 1500000\n",
      "i: 1600000\n",
      "i: 1700000\n",
      "i: 1800000\n",
      "i: 1900000\n",
      "i: 2000000\n",
      "i: 2100000\n",
      "i: 2200000\n",
      "i: 2300000\n",
      "i: 2400000\n",
      "i: 2500000\n",
      "i: 2600000\n",
      "i: 2700000\n",
      "i: 2800000\n"
     ]
    },
    {
     "ename": "",
     "evalue": "",
     "output_type": "error",
     "traceback": [
      "\u001b[1;31mCanceled future for execute_request message before replies were done"
     ]
    },
    {
     "ename": "",
     "evalue": "",
     "output_type": "error",
     "traceback": [
      "\u001b[1;31mThe Kernel crashed while executing code in the the current cell or a previous cell. Please review the code in the cell(s) to identify a possible cause of the failure. Click <a href='https://aka.ms/vscodeJupyterKernelCrash'>here</a> for more info. View Jupyter <a href='command:jupyter.viewOutput'>log</a> for further details."
     ]
    }
   ],
   "source": [
    "tweet_shingles = {}\n",
    "k = 5\n",
    "\n",
    "i = 0\n",
    "for row in filtered_data.itertuples():\n",
    "    if i % 100000 == 0:\n",
    "        print(f\"i: {i}\")\n",
    "    tweet_shingles[row.id] = k_shingle(row.text, k)\n",
    "    i += 1"
   ]
  },
  {
   "attachments": {},
   "cell_type": "markdown",
   "id": "5d29c087",
   "metadata": {},
   "source": [
    "# Problemas con Shingles\n",
    "Intente crear todos los shingles y guardarlos, pero me quede sin RAM (la mitad de los shingles usaba mas o menos 40GB de RAM). Posible solucion: Calcular los Shingles on-the-fly, al usar la funcion de hash, y guardar solo el ID de los textos parecidos."
   ]
  },
  {
   "cell_type": "code",
   "execution_count": null,
   "id": "abab9e58",
   "metadata": {},
   "outputs": [],
   "source": []
  }
 ],
 "metadata": {
  "kernelspec": {
   "display_name": "env",
   "language": "python",
   "name": "python3"
  },
  "language_info": {
   "codemirror_mode": {
    "name": "ipython",
    "version": 3
   },
   "file_extension": ".py",
   "mimetype": "text/x-python",
   "name": "python",
   "nbconvert_exporter": "python",
   "pygments_lexer": "ipython3",
   "version": "3.8.10"
  }
 },
 "nbformat": 4,
 "nbformat_minor": 5
}
